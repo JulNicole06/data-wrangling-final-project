{
 "cells": [
  {
   "cell_type": "markdown",
   "metadata": {
    "deletable": true,
    "editable": true
   },
   "source": [
    "# OpenStreetMap Case Study"
   ]
  },
  {
   "cell_type": "code",
   "execution_count": 1,
   "metadata": {
    "collapsed": false,
    "deletable": true,
    "editable": true
   },
   "outputs": [],
   "source": [
    "from street_suffix import map_street_suffix\n",
    "from audit import audit_addresses\n",
    "from update import update_addr\n",
    "from prepare_for_database import process_map"
   ]
  },
  {
   "cell_type": "markdown",
   "metadata": {
    "deletable": true,
    "editable": true
   },
   "source": [
    "## Map Area\n",
    "\n",
    "#### Roswell, GA, US \n",
    "\n",
    "- http://www.openstreetmap.org/relation/119569\n",
    "\n",
    "I moved to this area 2 years ago, and chose to use this map for my project as a way to learn more about the area and improve the OpenStreetMap data"
   ]
  },
  {
   "cell_type": "code",
   "execution_count": 2,
   "metadata": {
    "collapsed": true
   },
   "outputs": [],
   "source": [
    "osm_file = 'roswell.osm'"
   ]
  },
  {
   "cell_type": "markdown",
   "metadata": {},
   "source": [
    "## Problems Encountered in the Map"
   ]
  },
  {
   "cell_type": "code",
   "execution_count": 3,
   "metadata": {
    "collapsed": false,
    "deletable": true,
    "editable": true
   },
   "outputs": [],
   "source": [
    "expected, mapping = map_street_suffix()"
   ]
  },
  {
   "cell_type": "code",
   "execution_count": 4,
   "metadata": {
    "collapsed": false,
    "deletable": true,
    "editable": true
   },
   "outputs": [
    {
     "name": "stdout",
     "output_type": "stream",
     "text": [
      "Street Types: \n",
      "{'#125E': set(['Johnson Ferry Rd #125E']),\n",
      " '#240': set(['Roswell Rd #240']),\n",
      " '#302': set(['Haynes Bridge Rd #302']),\n",
      " '#450': set(['Johnson Ferry Rd #450']),\n",
      " '#6': set(['Wetherburn Way #6']),\n",
      " '#B': set(['Spalding Dr #B']),\n",
      " '1': set(['Morris Road, 6th Floor, Building 1']),\n",
      " '1188': set(['North Point Circle, Space 1188']),\n",
      " '814': set(['814']),\n",
      " '8343': set(['8343']),\n",
      " 'Approach': set(['Inverness Approach']),\n",
      " 'Bay': set(['Benmore Bay']),\n",
      " 'Chase': set(['Bluffwind Chase',\n",
      "               'Brayward Chase',\n",
      "               'Devereux Chase',\n",
      "               'Foxworth Chase',\n",
      "               'Georgetown Chase',\n",
      "               'Lazy Laurel Chase',\n",
      "               'Park Chase',\n",
      "               'Shadow Creek Chase',\n",
      "               'Taylor Meadow Chase']),\n",
      " 'Chute': set(['Briers Chute']),\n",
      " 'Cir': set(['Hillcrest Cir',\n",
      "             'Lake Cir',\n",
      "             'Pointe Cir',\n",
      "             'Rosewood Cir',\n",
      "             'Stephens Cir']),\n",
      " 'Close': set(['Autumn Wood Close',\n",
      "               'Blairshire Close',\n",
      "               'Branchwind Close',\n",
      "               'Callan Close',\n",
      "               'Cliffchase Close',\n",
      "               'Cottonwood Close',\n",
      "               'Crabtree Close',\n",
      "               'Cupit Close',\n",
      "               'Dunvegan Close',\n",
      "               'Gorham Close',\n",
      "               'Hughes Branch Close',\n",
      "               'Kilmory Close',\n",
      "               'Marshview Close',\n",
      "               'Martins Lake Close',\n",
      "               'Mistwater Close',\n",
      "               'Ridge Point Close',\n",
      "               'River Close',\n",
      "               'Saddlebrook Close',\n",
      "               'Saint Ignaius Close',\n",
      "               'Sentinae Close',\n",
      "               'Stoneglen Close',\n",
      "               'Summer Oaks Close',\n",
      "               'Taylor Knoll Close',\n",
      "               'Twinspur Close',\n",
      "               'Waverly Hall Close',\n",
      "               'Wexford Close']),\n",
      " 'Connection': set(['Cranberry Connection']),\n",
      " 'Copse': set(['Cullen Copse']),\n",
      " 'Ct': set(['Apple Ct',\n",
      "            'Arnold Mill Ct',\n",
      "            'Black Fox Ct',\n",
      "            'Bramble Ct',\n",
      "            'Briarwood Ct',\n",
      "            'Chestatee Ct',\n",
      "            'Chieftan Ct',\n",
      "            'Covey Ct',\n",
      "            'Crabapple Ct',\n",
      "            'Elenas Ct',\n",
      "            'Estate Ct',\n",
      "            'Falls Ct',\n",
      "            'Fieldgate Ct',\n",
      "            'Hardman Ct',\n",
      "            'Heathland Ct',\n",
      "            'Highland Ct',\n",
      "            'Hilltop Ct',\n",
      "            'Jason Ct',\n",
      "            'Jody Lynn Ct',\n",
      "            'John Ross Ct',\n",
      "            'Keenan Ct',\n",
      "            'Lake Ct',\n",
      "            'Laurel Ct',\n",
      "            'Magnolia Ct',\n",
      "            'Mount Glen Ct',\n",
      "            'Neil Ct',\n",
      "            'Newburgh Ct',\n",
      "            'Oak Ct',\n",
      "            'Old Course Ct',\n",
      "            'Old Shire Ct',\n",
      "            'Phoenix Ct',\n",
      "            'Pine Ct',\n",
      "            'Pondview Ct',\n",
      "            'Riverlake Ct',\n",
      "            'Unicoi Ct',\n",
      "            'Westridge Ct',\n",
      "            'Wiley Bridge Ct',\n",
      "            'Willow Branch Ct',\n",
      "            'Willow Ct']),\n",
      " 'Ct.': set(['Delaronde Ct.']),\n",
      " 'Dock': set(['The Dock']),\n",
      " 'Downs': set(['Barrow Downs', 'Devereux Downs']),\n",
      " 'Dr': set(['Blue Heron Dr',\n",
      "            'Bramble Oak Dr',\n",
      "            'Cardinal Dr',\n",
      "            'Colony Center Dr',\n",
      "            'Creek Hollow Dr',\n",
      "            'Heathland Dr',\n",
      "            'Jaywood Dr',\n",
      "            'Junaluska Dr',\n",
      "            'Knotts Point Dr',\n",
      "            'Lake Circle Dr',\n",
      "            'Lake Mist Dr',\n",
      "            'Magnolia Dr',\n",
      "            'Mondi Dr',\n",
      "            'Nacoochee Dr',\n",
      "            'Old Course Dr',\n",
      "            'Riverlake Dr',\n",
      "            'Rocky Creek Dr',\n",
      "            'Rocky Creek Farm Dr',\n",
      "            'Rosewood Dr',\n",
      "            'Settindown Dr',\n",
      "            'W Bramble Dr',\n",
      "            'Willow Bend Dr',\n",
      "            'Willow Tree Dr']),\n",
      " 'East': set(['Creekwood Crossing East',\n",
      "              'Mansell Court East',\n",
      "              'North Point Center East']),\n",
      " 'End': set(['Links End']),\n",
      " 'Entry': set(['Jacobean Entry', 'Landing Entry', 'Musket Entry']),\n",
      " 'Exd': set(['Lum Crowe Rd Exd']),\n",
      " 'Fairway': set(['Seventeenth Fairway', 'Tenth Fairway', 'The Fifth Fairway']),\n",
      " 'Gate': set(['Gentry Gate']),\n",
      " 'Grn': set(['Village on the Grn']),\n",
      " 'Hwy': set(['Hickory Flat Hwy']),\n",
      " 'Ivy': set(['English Ivy']),\n",
      " 'Ln': set(['Bluebird Acres Ln',\n",
      "            'Buckeye Ln',\n",
      "            'Fieldgate Ln',\n",
      "            'Hardman Ln',\n",
      "            'Hilltop Ln',\n",
      "            'Kimbrell Ln',\n",
      "            'Merganser Ln',\n",
      "            'Missy Ln',\n",
      "            'Mount Glen Ln',\n",
      "            'Oak Valley Ln',\n",
      "            'Old Course Ln',\n",
      "            'Penny Ln',\n",
      "            'Ridgepoint Ln',\n",
      "            'River Lakeside Ln',\n",
      "            'Rock Springs Ln',\n",
      "            'Rucker Ln',\n",
      "            'Teakwood Ln',\n",
      "            'Whistlewood Ln']),\n",
      " 'Loch': set(['Grande Loch']),\n",
      " 'Look': set(['Rock Point Look']),\n",
      " 'Moor': set(['Marquess Moor']),\n",
      " 'NW': set(['Glen Meadows Dr NW']),\n",
      " 'Northeast': set(['Aldwych Lane Northeast',\n",
      "                   'Amherst Court Northeast',\n",
      "                   'Asheforde Drive Northeast',\n",
      "                   'Audubon Drive Northeast',\n",
      "                   'Cambridge Way Northeast',\n",
      "                   'Chadds Lake Drive Northeast',\n",
      "                   'Childers Pond Overlook Northeast',\n",
      "                   'Childers Way Northeast',\n",
      "                   'Clubland Drive Northeast',\n",
      "                   'Colony Drive Northeast',\n",
      "                   'Fairville Court Northeast',\n",
      "                   'Fenwick Place Northeast',\n",
      "                   'Forest Pond Drive Northeast',\n",
      "                   'Greystone Court Northeast',\n",
      "                   'Hearthstone Circle Northeast',\n",
      "                   'Hunters Branch Drive Northeast',\n",
      "                   'Indian Hills Parkway Northeast',\n",
      "                   'Interlaken Drive Northeast',\n",
      "                   'Jefferson Ridge Way Northeast',\n",
      "                   'Johnson Ferry Road Northeast',\n",
      "                   'Lassiter Road Northeast',\n",
      "                   'Lower Roswell Road Northeast',\n",
      "                   'Manor House Drive Northeast',\n",
      "                   'Nassau Way Northeast',\n",
      "                   'Old Campus Court Northeast',\n",
      "                   'Old Campus Trail Northeast',\n",
      "                   'Old Maine Trail Northeast',\n",
      "                   'Old Timber Ridge Road Northeast',\n",
      "                   'Parkgate Drive Northeast',\n",
      "                   'Pintail Point Northeast',\n",
      "                   'Princeton Trace Northeast',\n",
      "                   'Riversound Court Northeast',\n",
      "                   'Shallowford Road Northeast',\n",
      "                   'Spalding Drive Northeast',\n",
      "                   'Spalding Trail Northeast',\n",
      "                   'Spender Trace Northeast',\n",
      "                   'Stirling Court Northeast',\n",
      "                   'Twin Branch Road Northeast',\n",
      "                   'Tynewick Trace Northeast',\n",
      "                   'Upper Brandon Place Northeast',\n",
      "                   'Waterford Green Trail Northeast',\n",
      "                   'Waterfront Circle Northeast',\n",
      "                   'Westfield Walk Northeast',\n",
      "                   'Westfield Way Northeast',\n",
      "                   'Willow Point Parkway Northeast',\n",
      "                   'Winding River Drive Northeast',\n",
      "                   'Woodstone Drive Northeast']),\n",
      " 'Northwest': set(['Wildercliff Drive Northwest',\n",
      "                   'Wilderglen Court Northwest',\n",
      "                   'Wilderlake Court Northwest']),\n",
      " 'Overlook': set(['Arbor Creek Overlook',\n",
      "                  'Foxhall Overlook',\n",
      "                  'Hembree Grove Overlook',\n",
      "                  'Highlands Overlook',\n",
      "                  'Lake Overlook',\n",
      "                  'Wexford Overlook']),\n",
      " 'Peak': set(['Kings Peak']),\n",
      " 'Pkwy': set(['6000 North Point Pkwy']),\n",
      " 'Pl': set(['Payton Pl']),\n",
      " 'Pointe': set(['Olde Pacer Pointe',\n",
      "                'Pine Trail Pointe',\n",
      "                'Terrace Lake Pointe',\n",
      "                'Whitehall Pointe']),\n",
      " 'Pt': set(['Hillcrest Pt']),\n",
      " 'Rd': set(['Alabama Rd',\n",
      "            'Arnold Mill Rd',\n",
      "            'Burnie Rd',\n",
      "            'Cox Rd',\n",
      "            'Earney Rd',\n",
      "            'Grimes Rd',\n",
      "            'Jep Wheeler Rd',\n",
      "            'Jett Rd',\n",
      "            'Ledieu Rd',\n",
      "            'Mountain Park Rd',\n",
      "            'Mountain Rd',\n",
      "            'N Arnold Mill Rd',\n",
      "            'Reese Rd',\n",
      "            'River Overlook Rd',\n",
      "            'Stoney Creek Rd',\n",
      "            'Turner Rd',\n",
      "            'Vaughn Rd',\n",
      "            'W Wylie Bridge Rd',\n",
      "            'Waters Rd',\n",
      "            'Wild Hill Rd',\n",
      "            'Wiley Bridge Rd',\n",
      "            'Wood Duck Rd']),\n",
      " 'Rd.': set(['Haynes Bridge Rd.', 'Holcomb Bridge Rd.']),\n",
      " 'Southeast': set(['Johnson Ferry Road Southeast']),\n",
      " 'St': set(['Norcross St', 'Pinewood St', 'Wood Branch St']),\n",
      " 'Steeplechase': set(['Steeplechase']),\n",
      " 'Tarn': set(['High Tarn', 'Tradea Tarn', 'Trakehner Tarn']),\n",
      " 'Ter': set(['Scott Ter']),\n",
      " 'Trce': set(['Dogwood Trce', 'Gantt Trce', 'Plantation Trce']),\n",
      " 'Trl': set(['Tomlin Trl', 'Tribal Trl']),\n",
      " 'Turn': set(['Gable Gate Turn']),\n",
      " 'Vine': set(['Hope Vine']),\n",
      " 'West': set(['Creekwood Crossing West']),\n",
      " 'Willow': set(['Weeping Willow']),\n",
      " 'Wood': set(['Stradford Wood']),\n",
      " 'Woods': set(['Merriweather Woods']),\n",
      " 'Xing': set(['Westridge Xing']),\n",
      " 'place': set(['Harris Commons place'])}\n",
      "-------------------------\n",
      "Cities Represented: \n",
      "['Roswell',\n",
      " 'Woodstock',\n",
      " 'Marietta',\n",
      " 'Atlanta',\n",
      " 'Alpharetta',\n",
      " 'Sandy Springa',\n",
      " 'Sandy Springs',\n",
      " 'Bismarck',\n",
      " 'Johns Creek',\n",
      " 'Norcross',\n",
      " 'Peachtree Corners',\n",
      " 'Milton',\n",
      " 'GA 30350']\n",
      "-------------------------\n",
      "States Represented: \n",
      "['GA', 'Georgia', 'ND', 'ga']\n",
      "-------------------------\n",
      "Postcodes: \n",
      "['30076', '30075', '30188', '30068', '30062', '30009', '30022', '30350', '30005', '30004', '30328', '30092', '58502', 'Atlanta,', '30092-4207', '1879', '30066']\n"
     ]
    }
   ],
   "source": [
    "audit_addresses(osm_file, expected)"
   ]
  },
  {
   "cell_type": "markdown",
   "metadata": {},
   "source": [
    "### 1. Inconsistent address abbreviations\n",
    "('Glen Meadows Dr NW','Clubland Drive Northeast'\n",
    "\n",
    "To clean this field, I scraped the https://pe.usps.com/text/pub28/28apc_002.htm website to get a listing of all expected street suffix abbreviations mapped to the full street suffix name.  As well, I added mappings for cardinal directions (North, South, East, West, etc) and rather than using regular expressions to update the last word in the street name, I split the street name and iterated through each word (ex. Glen Meadows Dr NW => Glen Meadows Drive Northwest rather than Glen Meadows Dr Northwest)\n",
    "    "
   ]
  },
  {
   "cell_type": "code",
   "execution_count": null,
   "metadata": {
    "collapsed": true
   },
   "outputs": [],
   "source": [
    "def update_addr(key, value, mapping, expected):\n",
    "    if key == \"street\":\n",
    "            value_split = value.split()\n",
    "            i = 0\n",
    "            new_value = \"\"\n",
    "            while i < len(value_split):\n",
    "                if value_split[i] != None:\n",
    "                    word = value_split[i]\n",
    "                    word = word.capitalize().replace(\".\", \"\")\n",
    "                    word = update_word(word, mapping, expected)\n",
    "                    new_value += word + \" \"\n",
    "                i += 1\n",
    "            return new_value"
   ]
  },
  {
   "cell_type": "markdown",
   "metadata": {},
   "source": [
    "### 2. Misspelled city, unexpected city and state and zip in the city field\n",
    "('Sandy Springa', 'Bismarck', 'GA 30350')\n",
    "\n",
    "I corrected the misspelling of Sandy Springs programmatically. Upon further investigation of 'Bismarck's' node_tag ID, this value is associated with Ridey Taxi Service in Bismarck, ND 58502.  Since this information does not belong in this dataset, I chose to delete it manually from the database. Investigation into the 'GA 30350' value showed that for id # 42882100 the city and postcode fields were switched.  I chose to manually update this in the database as well."
   ]
  },
  {
   "cell_type": "code",
   "execution_count": null,
   "metadata": {
    "collapsed": true
   },
   "outputs": [],
   "source": [
    "    elif key == \"city\":\n",
    "            if value == \"Sandy Springa\":\n",
    "                value = \"Sandy Springs\"\n",
    "            return value"
   ]
  },
  {
   "cell_type": "markdown",
   "metadata": {},
   "source": [
    "### 3. Inconsistent State abbreviations and capitalization, as well as inaccurate state's\n",
    "('GA', 'Georgia', 'ND', 'ga')\n",
    "\n",
    "I Chose to maintain a capitalized abbreviation (GA) and updated all fields to match.  The unexpected 'ND' value was also taken care of in the deletion explained above."
   ]
  },
  {
   "cell_type": "code",
   "execution_count": null,
   "metadata": {
    "collapsed": true
   },
   "outputs": [],
   "source": [
    "    elif key == \"state\":\n",
    "            if value == \"Georgia\":\n",
    "                value = \"GA\"\n",
    "            return value.upper()"
   ]
  },
  {
   "cell_type": "markdown",
   "metadata": {},
   "source": [
    "### 4. Inconsistent and incorrect zip codes, as well as city names in the zip code field\n",
    "('58502', 'Atlanta,', '30092-4207', '1879')\n",
    "\n",
    "The unexpected '58502' value was taken care of in the deletion explained above.  I chose to standardize to just the 5 digit zip code.  '1879' belongs to the id associated with 'Burger King # 4089' in Norcross, GA so the zip code should actually be '30092'.  This was easily corrected in the database.  The value 'Atlanta' was taken care of in the manual update to id # 42882100 described above"
   ]
  },
  {
   "cell_type": "code",
   "execution_count": null,
   "metadata": {
    "collapsed": false
   },
   "outputs": [],
   "source": [
    "    elif key == \"postcode\":\n",
    "            return value[0:5]\n",
    "        else:\n",
    "            return value"
   ]
  },
  {
   "cell_type": "code",
   "execution_count": 5,
   "metadata": {
    "collapsed": false,
    "deletable": true,
    "editable": true
   },
   "outputs": [],
   "source": [
    "process_map(osm_file, validate=False)"
   ]
  },
  {
   "cell_type": "code",
   "execution_count": null,
   "metadata": {
    "collapsed": true
   },
   "outputs": [],
   "source": []
  },
  {
   "cell_type": "code",
   "execution_count": null,
   "metadata": {
    "collapsed": true
   },
   "outputs": [],
   "source": []
  },
  {
   "cell_type": "code",
   "execution_count": null,
   "metadata": {
    "collapsed": true
   },
   "outputs": [],
   "source": []
  },
  {
   "cell_type": "code",
   "execution_count": null,
   "metadata": {
    "collapsed": true
   },
   "outputs": [],
   "source": []
  },
  {
   "cell_type": "code",
   "execution_count": null,
   "metadata": {
    "collapsed": true,
    "deletable": true,
    "editable": true
   },
   "outputs": [],
   "source": []
  }
 ],
 "metadata": {
  "kernelspec": {
   "display_name": "Python 2",
   "language": "python",
   "name": "python2"
  },
  "language_info": {
   "codemirror_mode": {
    "name": "ipython",
    "version": 2
   },
   "file_extension": ".py",
   "mimetype": "text/x-python",
   "name": "python",
   "nbconvert_exporter": "python",
   "pygments_lexer": "ipython2",
   "version": "2.7.13"
  }
 },
 "nbformat": 4,
 "nbformat_minor": 2
}
