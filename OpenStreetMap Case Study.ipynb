{
 "cells": [
  {
   "cell_type": "markdown",
   "metadata": {},
   "source": [
    "# OpenStreetMap Case Study"
   ]
  },
  {
   "cell_type": "markdown",
   "metadata": {},
   "source": [
    "## Step One - Complete Programming Exercises\n",
    "Make sure all programming exercises are solved correctly in the \"Case Study: OpenStreetMap Data\" Lesson in the course you have chosen (MongoDB or SQL). This is the last lesson in that section."
   ]
  },
  {
   "cell_type": "code",
   "execution_count": 1,
   "metadata": {
    "collapsed": true
   },
   "outputs": [],
   "source": [
    "import xml.etree.cElementTree as ET\n",
    "from collections import defaultdict\n",
    "import re"
   ]
  },
  {
   "cell_type": "markdown",
   "metadata": {},
   "source": [
    "### Iterative Parsing\n",
    "Your task is to use the iterative parsing to process the map file and find out not only what tags are there, but also how many, to get the feeling on how much of which data you can expect to have in the map.  Return a dictionary with the tag name as the key and number of times this tag can be encountered in the map as value."
   ]
  },
  {
   "cell_type": "code",
   "execution_count": 2,
   "metadata": {
    "collapsed": false
   },
   "outputs": [
    {
     "name": "stdout",
     "output_type": "stream",
     "text": [
      "defaultdict(<type 'int'>, {'node': 3269680, 'nd': 3961981, 'bounds': 1, 'member': 60781, 'tag': 2071283, 'relation': 5114, 'way': 340971, 'osm': 1})\n"
     ]
    }
   ],
   "source": [
    "tags = defaultdict(int)\n",
    "for event, element in ET.iterparse(\"philadelphia_pennsylvania.osm\"):\n",
    "    tags[element.tag] += 1\n",
    "print tags"
   ]
  },
  {
   "cell_type": "markdown",
   "metadata": {},
   "source": [
    "### Tag Types\n",
    "Your task is to explore the data a bit more.  Before you process the data and add it into your database, you should check the \"k\" value for each tag and see if there are any potential problems.  We have provided you with 3 regular expressions to check for certain patterns in the tags. As we saw in the quiz earlier, we would like to change the data\n",
    "model and expand the \"addr:street\" type of keys to a dictionary like this: {\"address\": {\"street\": \"Some value\"}} So, we have to see if we have such tags, and if we have any tags with problematic characters.\n",
    "\n",
    "Please complete the function 'key_type', such that we have a count of each of\n",
    "four tag categories in a dictionary:\n",
    "  - \"lower\", for tags that contain only lowercase letters and are valid,\n",
    "  - \"lower_colon\", for otherwise valid tags with a colon in their names,\n",
    "  - \"problemchars\", for tags with problematic characters, and\n",
    "  - \"other\", for other tags that do not fall into the other three categories."
   ]
  },
  {
   "cell_type": "code",
   "execution_count": 3,
   "metadata": {
    "collapsed": false
   },
   "outputs": [
    {
     "name": "stdout",
     "output_type": "stream",
     "text": [
      "{'problemchars': 8, 'lower': 983593, 'other': 182986, 'lower_colon': 904696}\n"
     ]
    }
   ],
   "source": [
    "lower = re.compile(r'^([a-z]|_)*$')\n",
    "lower_colon = re.compile(r'^([a-z]|_)*:([a-z]|_)*$')\n",
    "problemchars = re.compile(r'[=\\+/&<>;\\'\"\\?%#$@\\,\\. \\t\\r\\n]')\n",
    "\n",
    "def key_type(element, keys):\n",
    "    if element.tag == \"tag\":\n",
    "        result1 = lower.search(element.attrib['k'])\n",
    "        result2 = lower_colon.search(element.attrib['k'])\n",
    "        result3 = problemchars.search(element.attrib['k'])\n",
    "        \n",
    "        if result1 is not None:\n",
    "            keys['lower'] += 1\n",
    "        elif result2 is not None:\n",
    "            keys['lower_colon'] += 1\n",
    "        elif result3 is not None:\n",
    "            keys['problemchars'] += 1\n",
    "        else:\n",
    "            keys['other'] += 1\n",
    "\n",
    "    return keys\n",
    "\n",
    "\n",
    "\n",
    "keys = {\"lower\": 0, \"lower_colon\": 0, \"problemchars\": 0, \"other\": 0}\n",
    "for _, element in ET.iterparse(\"philadelphia_pennsylvania.osm\"):\n",
    "    keys = key_type(element, keys)\n",
    "\n",
    "print keys"
   ]
  },
  {
   "cell_type": "code",
   "execution_count": null,
   "metadata": {
    "collapsed": true
   },
   "outputs": [],
   "source": []
  }
 ],
 "metadata": {
  "kernelspec": {
   "display_name": "Python 2",
   "language": "python",
   "name": "python2"
  },
  "language_info": {
   "codemirror_mode": {
    "name": "ipython",
    "version": 2
   },
   "file_extension": ".py",
   "mimetype": "text/x-python",
   "name": "python",
   "nbconvert_exporter": "python",
   "pygments_lexer": "ipython2",
   "version": "2.7.13"
  }
 },
 "nbformat": 4,
 "nbformat_minor": 2
}
