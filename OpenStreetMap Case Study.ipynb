{
 "cells": [
  {
   "cell_type": "markdown",
   "metadata": {
    "deletable": true,
    "editable": true
   },
   "source": [
    "# OpenStreetMap Case Study"
   ]
  },
  {
   "cell_type": "code",
   "execution_count": null,
   "metadata": {
    "collapsed": false,
    "deletable": true,
    "editable": true
   },
   "outputs": [],
   "source": [
    "from street_suffix import map_street_suffix\n",
    "from audit import audit_addresses\n",
    "from update import update_addr\n",
    "from prepare_for_database import process_map"
   ]
  },
  {
   "cell_type": "markdown",
   "metadata": {
    "deletable": true,
    "editable": true
   },
   "source": [
    "## Map Area\n",
    "\n",
    "#### Roswell, GA, US \n",
    "\n",
    "- http://www.openstreetmap.org/relation/119569\n",
    "\n",
    "I moved to this area 2 years ago, and chose to use this map for my project as a way to learn more about the area and improve the OpenStreetMap data"
   ]
  },
  {
   "cell_type": "code",
   "execution_count": null,
   "metadata": {
    "collapsed": true
   },
   "outputs": [],
   "source": [
    "osm_file = 'roswell.osm'"
   ]
  },
  {
   "cell_type": "markdown",
   "metadata": {},
   "source": [
    "## Problems Encountered in the Map"
   ]
  },
  {
   "cell_type": "code",
   "execution_count": null,
   "metadata": {
    "collapsed": false,
    "deletable": true,
    "editable": true
   },
   "outputs": [],
   "source": [
    "expected, mapping = map_street_suffix()"
   ]
  },
  {
   "cell_type": "code",
   "execution_count": null,
   "metadata": {
    "collapsed": false,
    "deletable": true,
    "editable": true
   },
   "outputs": [],
   "source": [
    "audit_addresses(osm_file, expected)"
   ]
  },
  {
   "cell_type": "markdown",
   "metadata": {},
   "source": [
    "### 1. Inconsistent address abbreviations\n",
    "('Glen Meadows Dr NW','Clubland Drive Northeast'\n",
    "\n",
    "To clean this field, I scraped the https://pe.usps.com/text/pub28/28apc_002.htm website to get a listing of all expected street suffix abbreviations mapped to the full street suffix name.  As well, I added mappings for cardinal directions (North, South, East, West, etc) and rather than using regular expressions to update the last word in the street name, I split the street name and iterated through each word (ex. Glen Meadows Dr NW => Glen Meadows Drive Northwest rather than Glen Meadows Dr Northwest)\n",
    "    "
   ]
  },
  {
   "cell_type": "code",
   "execution_count": null,
   "metadata": {
    "collapsed": true
   },
   "outputs": [],
   "source": [
    "def update_addr(key, value, mapping, expected):\n",
    "    if key == \"street\":\n",
    "            value_split = value.split()\n",
    "            i = 0\n",
    "            new_value = \"\"\n",
    "            while i < len(value_split):\n",
    "                if value_split[i] != None:\n",
    "                    word = value_split[i]\n",
    "                    word = word.capitalize().replace(\".\", \"\")\n",
    "                    word = update_word(word, mapping, expected)\n",
    "                    new_value += word + \" \"\n",
    "                i += 1\n",
    "            return new_value"
   ]
  },
  {
   "cell_type": "markdown",
   "metadata": {},
   "source": [
    "### 2. Misspelled city, unexpected city and state and zip in the city field\n",
    "('Sandy Springa', 'Bismarck', 'GA 30350')\n",
    "\n",
    "I corrected the misspelling of Sandy Springs programmatically. Upon further investigation of 'Bismarck's' node_tag ID, this value is associated with Ridey Taxi Service in Bismarck, ND 58502.  Since this information does not belong in this dataset, I chose to delete it manually from the database. Investigation into the 'GA 30350' value showed that for id # 42882100 the city and postcode fields were switched.  I chose to manually update this in the database as well."
   ]
  },
  {
   "cell_type": "code",
   "execution_count": null,
   "metadata": {
    "collapsed": true
   },
   "outputs": [],
   "source": [
    "    elif key == \"city\":\n",
    "            if value == \"Sandy Springa\":\n",
    "                value = \"Sandy Springs\"\n",
    "            return value"
   ]
  },
  {
   "cell_type": "markdown",
   "metadata": {},
   "source": [
    "### 3. Inconsistent State abbreviations and capitalization, as well as inaccurate state's\n",
    "('GA', 'Georgia', 'ND', 'ga')\n",
    "\n",
    "I Chose to maintain a capitalized abbreviation (GA) and updated all fields to match.  The unexpected 'ND' value was also taken care of in the deletion explained above."
   ]
  },
  {
   "cell_type": "code",
   "execution_count": null,
   "metadata": {
    "collapsed": true
   },
   "outputs": [],
   "source": [
    "    elif key == \"state\":\n",
    "            if value == \"Georgia\":\n",
    "                value = \"GA\"\n",
    "            return value.upper()"
   ]
  },
  {
   "cell_type": "markdown",
   "metadata": {},
   "source": [
    "### 4. Inconsistent and incorrect zip codes, as well as city names in the zip code field\n",
    "('58502', 'Atlanta,', '30092-4207', '1879')\n",
    "\n",
    "The unexpected '58502' value was taken care of in the deletion explained above.  I chose to standardize to just the 5 digit zip code.  '1879' belongs to the id associated with 'Burger King # 4089' in Norcross, GA so the zip code should actually be '30092'.  This was easily corrected in the database.  The value 'Atlanta' was taken care of in the manual update to id # 42882100 described above"
   ]
  },
  {
   "cell_type": "code",
   "execution_count": null,
   "metadata": {
    "collapsed": false
   },
   "outputs": [],
   "source": [
    "    elif key == \"postcode\":\n",
    "            return value[0:5]\n",
    "        else:\n",
    "            return value"
   ]
  },
  {
   "cell_type": "code",
   "execution_count": null,
   "metadata": {
    "collapsed": false,
    "deletable": true,
    "editable": true
   },
   "outputs": [],
   "source": [
    "process_map(osm_file, validate=False)"
   ]
  },
  {
   "cell_type": "markdown",
   "metadata": {},
   "source": [
    "## Upload to SQL Database"
   ]
  },
  {
   "cell_type": "code",
   "execution_count": null,
   "metadata": {
    "collapsed": false
   },
   "outputs": [],
   "source": [
    "from create_database import import_table\n",
    "import sqlite3\n",
    "import csv\n",
    "from pprint import pprint\n",
    "\n",
    "connection = sqlite3.connect('roswell.db')\n",
    "cursor = connection.cursor()\n",
    "import_table('roswell.db', 'csv_files/nodes_tags.csv', 'nodes_tags', connection, cursor)\n",
    "import_table('roswell.db', 'csv_files/nodes.csv', 'nodes', connection, cursor)\n",
    "import_table('roswell.db', 'csv_files/ways_nodes.csv', 'ways_nodes', connection, cursor)\n",
    "import_table('roswell.db', 'csv_files/ways_tags.csv', 'ways_tags', connection, cursor)\n",
    "import_table('roswell.db', 'csv_files/ways.csv', 'ways', connection, cursor)"
   ]
  },
  {
   "cell_type": "code",
   "execution_count": null,
   "metadata": {
    "collapsed": false
   },
   "outputs": [],
   "source": []
  },
  {
   "cell_type": "code",
   "execution_count": null,
   "metadata": {
    "collapsed": false
   },
   "outputs": [],
   "source": []
  },
  {
   "cell_type": "code",
   "execution_count": null,
   "metadata": {
    "collapsed": true
   },
   "outputs": [],
   "source": [
    "\n",
    "    "
   ]
  },
  {
   "cell_type": "code",
   "execution_count": null,
   "metadata": {
    "collapsed": false,
    "deletable": true,
    "editable": true
   },
   "outputs": [],
   "source": []
  },
  {
   "cell_type": "code",
   "execution_count": null,
   "metadata": {
    "collapsed": true
   },
   "outputs": [],
   "source": []
  },
  {
   "cell_type": "code",
   "execution_count": null,
   "metadata": {
    "collapsed": true
   },
   "outputs": [],
   "source": []
  },
  {
   "cell_type": "code",
   "execution_count": null,
   "metadata": {
    "collapsed": true
   },
   "outputs": [],
   "source": []
  }
 ],
 "metadata": {
  "kernelspec": {
   "display_name": "Python 2",
   "language": "python",
   "name": "python2"
  },
  "language_info": {
   "codemirror_mode": {
    "name": "ipython",
    "version": 2
   },
   "file_extension": ".py",
   "mimetype": "text/x-python",
   "name": "python",
   "nbconvert_exporter": "python",
   "pygments_lexer": "ipython2",
   "version": "2.7.13"
  }
 },
 "nbformat": 4,
 "nbformat_minor": 2
}
